{
  "nbformat": 4,
  "nbformat_minor": 0,
  "metadata": {
    "colab": {
      "provenance": [],
      "include_colab_link": true
    },
    "kernelspec": {
      "name": "python3",
      "display_name": "Python 3"
    },
    "gpuClass": "standard"
  },
  "cells": [
    {
      "cell_type": "markdown",
      "metadata": {
        "id": "view-in-github",
        "colab_type": "text"
      },
      "source": [
        "<a href=\"https://colab.research.google.com/github/MartinekV/DL-for-bio-course/blob/master/02_MNIST.ipynb\" target=\"_parent\"><img src=\"https://colab.research.google.com/assets/colab-badge.svg\" alt=\"Open In Colab\"/></a>"
      ]
    },
    {
      "cell_type": "markdown",
      "source": [
        "## Libraries setup"
      ],
      "metadata": {
        "id": "f1TIRdTAiT6c"
      }
    },
    {
      "metadata": {
        "id": "PtKvmZx-WmUu"
      },
      "cell_type": "code",
      "source": [
        "!pip install -q torchmetrics"
      ],
      "execution_count": null,
      "outputs": []
    },
    {
      "cell_type": "markdown",
      "source": [
        "## Data preparation and exploration"
      ],
      "metadata": {
        "id": "oJqJ4hlLiac4"
      }
    },
    {
      "metadata": {
        "id": "lCsBCXMwbpH5"
      },
      "cell_type": "code",
      "source": [
        "import torchvision.datasets as dsets\n",
        "import torchvision.transforms as transforms\n",
        "\n",
        "train_dataset = dsets.MNIST(root = './data', train = True, transform = transforms.ToTensor(), download = True)"
      ],
      "execution_count": null,
      "outputs": []
    },
    {
      "cell_type": "markdown",
      "source": [
        "Pytorch dataset implements two methods\n",
        "\n",
        "\n",
        "```\n",
        "__len__ #length of the dataset\n",
        "__getitem__ #access to a single datapoint\n",
        "```\n",
        "\n"
      ],
      "metadata": {
        "id": "TB7eV_wBinCA"
      }
    },
    {
      "cell_type": "code",
      "source": [
        "print(train_dataset.__len__())"
      ],
      "metadata": {
        "id": "6BaDVNb7_zS9"
      },
      "execution_count": null,
      "outputs": []
    },
    {
      "cell_type": "code",
      "source": [
        "counts = {num:0 for num in range(10)}\n",
        "for x,y in train_dataset:\n",
        "  counts[y]+=1\n",
        "\n",
        "counts"
      ],
      "metadata": {
        "id": "ksy7qbE2Uarp"
      },
      "execution_count": null,
      "outputs": []
    },
    {
      "cell_type": "code",
      "source": [
        "sample_index = 123 #from 0 to 59999\n",
        "sample_X, sample_y = train_dataset.__getitem__(sample_index)"
      ],
      "metadata": {
        "id": "NrvayHlK_626"
      },
      "execution_count": 5,
      "outputs": []
    },
    {
      "cell_type": "code",
      "source": [
        "to_image = transforms.ToPILImage()\n",
        "resize = transforms.Resize((100,100))\n",
        "print(sample_y)\n",
        "resize(to_image(sample_X))\n"
      ],
      "metadata": {
        "id": "RLA659eC-OoC"
      },
      "execution_count": null,
      "outputs": []
    },
    {
      "cell_type": "code",
      "source": [
        "sample_X"
      ],
      "metadata": {
        "id": "xS2-X6UtBK-c"
      },
      "execution_count": null,
      "outputs": []
    },
    {
      "cell_type": "code",
      "source": [
        "import torch\n",
        "#Check if the data is preprocessed and normalized\n",
        "\n",
        "print('Shape:' ,sample_X.size())\n",
        "print('Std:', torch.std_mean(sample_X))\n",
        "print('Max:', torch.max(sample_X))\n",
        "print('Min:', torch.min(sample_X))"
      ],
      "metadata": {
        "id": "FWh4aeaMBZPc"
      },
      "execution_count": null,
      "outputs": []
    },
    {
      "cell_type": "markdown",
      "source": [
        "## Data loading"
      ],
      "metadata": {
        "id": "cmsAIPMekxSc"
      }
    },
    {
      "metadata": {
        "id": "rfDPBdnYgfGp"
      },
      "cell_type": "code",
      "source": [
        "batch_size = 32\n",
        "train_loader = torch.utils.data.DataLoader(dataset = train_dataset, batch_size = batch_size, shuffle = True)"
      ],
      "execution_count": 18,
      "outputs": []
    },
    {
      "cell_type": "code",
      "source": [
        "batch_X, batch_y = next(iter(train_loader))\n",
        "print(batch_X.size())\n",
        "print(batch_y.size())"
      ],
      "metadata": {
        "id": "-VPBPg6cDFez"
      },
      "execution_count": null,
      "outputs": []
    },
    {
      "cell_type": "code",
      "source": [
        "batch_y"
      ],
      "metadata": {
        "id": "qnDJJHYFDaGP"
      },
      "execution_count": null,
      "outputs": []
    },
    {
      "cell_type": "markdown",
      "source": [
        "## Model"
      ],
      "metadata": {
        "id": "4xBBpcUip_mB"
      }
    },
    {
      "cell_type": "markdown",
      "source": [
        "### Logistic regression model"
      ],
      "metadata": {
        "id": "g-1QK42vT_W-"
      }
    },
    {
      "cell_type": "code",
      "source": [
        "import torch.nn as nn\n",
        "# Using pytorch nn.Module class\n",
        "class LogisticRegressionClassifier(nn.Module):\n",
        "  def __init__(self, input_size, num_classes):\n",
        "    super().__init__()\n",
        "\n",
        "    self.linear = nn.Linear(input_size, num_classes)\n",
        "    self.softmax = nn.Softmax(dim=-1)\n",
        "\n",
        "  def forward(self, x):\n",
        "    out = self.linear(x)\n",
        "    out = self.softmax(out)\n",
        "    return out"
      ],
      "metadata": {
        "id": "IdfVUszmY01Z"
      },
      "execution_count": 21,
      "outputs": []
    },
    {
      "cell_type": "markdown",
      "source": [
        "### MLP"
      ],
      "metadata": {
        "id": "3_tDofQSTukS"
      }
    },
    {
      "cell_type": "code",
      "source": [
        "class MLP(nn.Module):\n",
        "  def __init__(self, input_size, hidden_size, num_classes):\n",
        "    super().__init__()\n",
        "    #TODO\n",
        "    #hint: use nn.ReLU() layer\n",
        "\n",
        "  def forward(self,x):\n",
        "    # TODO\n",
        "    pass"
      ],
      "metadata": {
        "id": "urUq_Yuj0Txn"
      },
      "execution_count": 38,
      "outputs": []
    },
    {
      "cell_type": "code",
      "source": [
        "# Test the MLP\n",
        "# net = MLP(input_size=28*28, hidden_size = 100, num_classes=10)\n",
        "# sample_input = torch.rand(1,784)\n",
        "# net(sample_input)"
      ],
      "metadata": {
        "id": "N2BChhYS0PyT"
      },
      "execution_count": null,
      "outputs": []
    },
    {
      "cell_type": "markdown",
      "source": [
        "## Model creation"
      ],
      "metadata": {
        "id": "vc2lCG16T41N"
      }
    },
    {
      "metadata": {
        "id": "-3EPEqbjjfAT"
      },
      "cell_type": "code",
      "source": [
        "# Pixels on input will be spreaded out\n",
        "net = LogisticRegressionClassifier(input_size=28*28, num_classes=10)\n",
        "net"
      ],
      "execution_count": null,
      "outputs": []
    },
    {
      "cell_type": "code",
      "source": [
        "test_input = torch.rand(1, 784)"
      ],
      "metadata": {
        "id": "3siFKMlzmtNQ"
      },
      "execution_count": 23,
      "outputs": []
    },
    {
      "cell_type": "code",
      "source": [
        "net(test_input)"
      ],
      "metadata": {
        "id": "gPRAGPgbmrH2"
      },
      "execution_count": null,
      "outputs": []
    },
    {
      "cell_type": "code",
      "source": [
        "batch_X, batch_y = next(iter(train_loader))\n",
        "net(batch_X)"
      ],
      "metadata": {
        "id": "ktO6ndh4XubU"
      },
      "execution_count": null,
      "outputs": []
    },
    {
      "cell_type": "code",
      "source": [
        "# Our data shape doesnt match the network input shape\n",
        "batch_X.size()"
      ],
      "metadata": {
        "id": "7aOdzuAvJ5hw"
      },
      "execution_count": null,
      "outputs": []
    },
    {
      "cell_type": "code",
      "source": [
        "batch_X = batch_X.reshape(-1,28*28)\n",
        "batch_X.size()"
      ],
      "metadata": {
        "id": "HkxPZLtOJ8eh"
      },
      "execution_count": null,
      "outputs": []
    },
    {
      "cell_type": "code",
      "source": [
        "net(batch_X)"
      ],
      "metadata": {
        "id": "QvK9JmeoX_xJ"
      },
      "execution_count": null,
      "outputs": []
    },
    {
      "cell_type": "markdown",
      "source": [
        "## Training"
      ],
      "metadata": {
        "id": "AkJL3a-jYKNV"
      }
    },
    {
      "cell_type": "code",
      "source": [
        "net = LogisticRegressionClassifier(input_size=784, num_classes=10)"
      ],
      "metadata": {
        "id": "AOHQOEAjtpQv"
      },
      "execution_count": 30,
      "outputs": []
    },
    {
      "metadata": {
        "id": "ePLIwvAFj2zH"
      },
      "cell_type": "code",
      "source": [
        "loss_function = nn.CrossEntropyLoss()\n",
        "optimizer = torch.optim.Adam(net.parameters(), lr=1e-3)"
      ],
      "execution_count": 40,
      "outputs": []
    },
    {
      "cell_type": "code",
      "source": [
        "from torchmetrics import Accuracy\n",
        "\n",
        "accuracy_function = Accuracy(task='multiclass', num_classes=10)"
      ],
      "metadata": {
        "id": "mmDnHzFUoGvD"
      },
      "execution_count": 41,
      "outputs": []
    },
    {
      "metadata": {
        "id": "u75Xa5VckuTH"
      },
      "cell_type": "code",
      "source": [
        "num_epochs=3\n",
        "for epoch in range(num_epochs):\n",
        "  for batch_idx ,(images,labels) in enumerate(train_loader):\n",
        "    images = images.reshape(-1,784)\n",
        "\n",
        "    outputs = net(images)\n",
        "    loss = loss_function(outputs, labels)\n",
        "    loss.backward()\n",
        "    optimizer.step()\n",
        "    optimizer.zero_grad()\n",
        "\n",
        "    if (batch_idx) % 250 == 0:\n",
        "      print('Epoch [%d/%d], Step [%d/%d], Loss: %.4f, Accuracy: %.4f'\n",
        "        %(epoch+1, num_epochs, batch_idx, len(train_loader.dataset)//images.size()[0], loss.item(), accuracy_function(outputs,labels)))\n",
        ""
      ],
      "execution_count": null,
      "outputs": []
    },
    {
      "cell_type": "code",
      "source": [
        "from tqdm import tqdm\n",
        "def get_accuracy(model, loader):\n",
        "  model.eval()\n",
        "  all_predictions = []\n",
        "  all_labels = []\n",
        "  with torch.no_grad(): #Uses less GPU memory and is faster\n",
        "    for images,labels in tqdm(loader):\n",
        "      images = images.reshape(-1,28*28)\n",
        "      labels = labels\n",
        "\n",
        "      output = model(images)\n",
        "      all_predictions.append(output)\n",
        "      all_labels.append(labels)\n",
        "\n",
        "  #torch.cat concats tensors along new dimension\n",
        "  print('Accuracy:', accuracy_function(torch.cat(all_predictions), torch.cat(all_labels)).item())"
      ],
      "metadata": {
        "id": "O2_CfOTQZCRq"
      },
      "execution_count": 43,
      "outputs": []
    },
    {
      "cell_type": "code",
      "source": [
        "get_accuracy(net, train_loader)"
      ],
      "metadata": {
        "id": "lS8a2rt3Zhyn"
      },
      "execution_count": null,
      "outputs": []
    },
    {
      "cell_type": "markdown",
      "source": [
        "## Testing"
      ],
      "metadata": {
        "id": "beDB4Sx0ujAx"
      }
    },
    {
      "metadata": {
        "id": "DTPvMW5jHB9X"
      },
      "cell_type": "code",
      "source": [
        "test_data = dsets.MNIST(root = './data', train = False, transform = transforms.ToTensor())\n",
        "test_loader = torch.utils.data.DataLoader(dataset = test_data, batch_size = 128, shuffle = False)\n",
        "\n",
        "print(test_data.__len__())\n"
      ],
      "execution_count": null,
      "outputs": []
    },
    {
      "cell_type": "code",
      "source": [
        "get_accuracy(net, test_loader)"
      ],
      "metadata": {
        "id": "OBQxNJaGavbA"
      },
      "execution_count": null,
      "outputs": []
    },
    {
      "cell_type": "code",
      "source": [
        "# Exercise: Solve the problem with MLP"
      ],
      "metadata": {
        "id": "b-oBcCFns8yy"
      },
      "execution_count": null,
      "outputs": []
    },
    {
      "cell_type": "markdown",
      "source": [
        "### MLP task solution (Spoiler inside!)"
      ],
      "metadata": {
        "id": "kt5yairbmCSh"
      }
    },
    {
      "cell_type": "code",
      "source": [
        "class MLP(nn.Module):\n",
        "  def __init__(self, input_size, hidden_size, num_classes):\n",
        "    super().__init__()\n",
        "    self.net = nn.Sequential(\n",
        "        nn.Linear(input_size, hidden_size),\n",
        "        nn.ReLU(),\n",
        "        nn.Linear(hidden_size, num_classes),\n",
        "        nn.Softmax(dim=-1),\n",
        "    )\n",
        "  def forward(self,x):\n",
        "    return self.net(x)"
      ],
      "metadata": {
        "id": "tRgELCobmB51"
      },
      "execution_count": null,
      "outputs": []
    }
  ]
}