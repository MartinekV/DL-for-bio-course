{
  "cells": [
    {
      "cell_type": "markdown",
      "metadata": {
        "id": "view-in-github",
        "colab_type": "text"
      },
      "source": [
        "<a href=\"https://colab.research.google.com/github/MartinekV/DL-for-bio-course/blob/master/04_DNA_enhancers.ipynb\" target=\"_parent\"><img src=\"https://colab.research.google.com/assets/colab-badge.svg\" alt=\"Open In Colab\"/></a>"
      ]
    },
    {
      "cell_type": "markdown",
      "source": [
        "## Setup"
      ],
      "metadata": {
        "id": "XUhsOuC-CjC4"
      }
    },
    {
      "cell_type": "code",
      "execution_count": 2,
      "metadata": {
        "id": "uuhcuLhWapla",
        "colab": {
          "base_uri": "https://localhost:8080/"
        },
        "outputId": "d75dc483-44ae-4f4d-9bb7-33d40a74385c"
      },
      "outputs": [
        {
          "output_type": "stream",
          "name": "stdout",
          "text": [
            "\u001b[?25l     \u001b[90m━━━━━━━━━━━━━━━━━━━━━━━━━━━━━━━━━━━━━━━━\u001b[0m \u001b[32m0.0/519.2 KB\u001b[0m \u001b[31m?\u001b[0m eta \u001b[36m-:--:--\u001b[0m\r\u001b[2K     \u001b[91m━━━━━━━━━━━━━━━━━━━━━━━━━━━━━━━━━━━━━\u001b[0m\u001b[90m╺\u001b[0m \u001b[32m512.0/519.2 KB\u001b[0m \u001b[31m19.8 MB/s\u001b[0m eta \u001b[36m0:00:01\u001b[0m\r\u001b[2K     \u001b[90m━━━━━━━━━━━━━━━━━━━━━━━━━━━━━━━━━━━━━━\u001b[0m \u001b[32m519.2/519.2 KB\u001b[0m \u001b[31m13.7 MB/s\u001b[0m eta \u001b[36m0:00:00\u001b[0m\n",
            "\u001b[?25h"
          ]
        }
      ],
      "source": [
        "!pip install -q genomic-benchmarks\n",
        "!pip install torchmetrics -q"
      ]
    },
    {
      "cell_type": "markdown",
      "source": [
        "## Text preprocessing"
      ],
      "metadata": {
        "id": "MxReT2qZCkyJ"
      }
    },
    {
      "cell_type": "code",
      "source": [
        "import torch\n",
        "example_seq = 'ACCCTGCCAACACGGGACTTTAC'\n",
        "vocab = {'A':0,'C':1,'T':2,'G':3}"
      ],
      "metadata": {
        "id": "JVhdqcmWq67s"
      },
      "execution_count": 13,
      "outputs": []
    },
    {
      "cell_type": "code",
      "source": [
        "numericalized = [vocab[c] for c in example_seq]\n",
        "numericalized"
      ],
      "metadata": {
        "colab": {
          "base_uri": "https://localhost:8080/"
        },
        "id": "LHgah9gZC2uX",
        "outputId": "207621fa-5877-413f-c3d5-0ae9c0a99bf8"
      },
      "execution_count": 15,
      "outputs": [
        {
          "output_type": "execute_result",
          "data": {
            "text/plain": [
              "[0, 1, 1, 1, 2, 3, 1, 1, 0, 0, 1, 0, 1, 3, 3, 3, 0, 1, 2, 2, 2, 0, 1]"
            ]
          },
          "metadata": {},
          "execution_count": 15
        }
      ]
    },
    {
      "cell_type": "code",
      "source": [
        "numericalized_tensor = torch.tensor(numericalized)\n",
        "ohe_seq = torch.nn.functional.one_hot(numericalized_tensor, num_classes=4)\n",
        "ohe_seq"
      ],
      "metadata": {
        "colab": {
          "base_uri": "https://localhost:8080/"
        },
        "id": "WL9PgorSC_hc",
        "outputId": "5105f8fa-b55a-49cc-f1d5-1908c7984798"
      },
      "execution_count": 18,
      "outputs": [
        {
          "output_type": "execute_result",
          "data": {
            "text/plain": [
              "tensor([[1, 0, 0, 0],\n",
              "        [0, 1, 0, 0],\n",
              "        [0, 1, 0, 0],\n",
              "        [0, 1, 0, 0],\n",
              "        [0, 0, 1, 0],\n",
              "        [0, 0, 0, 1],\n",
              "        [0, 1, 0, 0],\n",
              "        [0, 1, 0, 0],\n",
              "        [1, 0, 0, 0],\n",
              "        [1, 0, 0, 0],\n",
              "        [0, 1, 0, 0],\n",
              "        [1, 0, 0, 0],\n",
              "        [0, 1, 0, 0],\n",
              "        [0, 0, 0, 1],\n",
              "        [0, 0, 0, 1],\n",
              "        [0, 0, 0, 1],\n",
              "        [1, 0, 0, 0],\n",
              "        [0, 1, 0, 0],\n",
              "        [0, 0, 1, 0],\n",
              "        [0, 0, 1, 0],\n",
              "        [0, 0, 1, 0],\n",
              "        [1, 0, 0, 0],\n",
              "        [0, 1, 0, 0]])"
            ]
          },
          "metadata": {},
          "execution_count": 18
        }
      ]
    },
    {
      "cell_type": "code",
      "source": [
        "vocab = {'A':0,'C':1,'T':2,'G':3}\n",
        "def tokenize_batch(batch):\n",
        "  res = []\n",
        "  for seq in batch:\n",
        "    numericalized = [vocab[c] for c in seq]\n",
        "    numericalized_tensor = torch.tensor(numericalized)\n",
        "    ohe_seq = torch.nn.functional.one_hot(numericalized_tensor, num_classes=4).float()\n",
        "    res.append(ohe_seq)\n",
        "    print('Appending tensor of size', ohe_seq.size())\n",
        "\n",
        "  print('Stacking tensors along a new dimension')\n",
        "  out = torch.stack(res)\n",
        "  print('Resulting tensor size', out.size())\n",
        "  return out\n",
        "\n",
        "batch = ['ACTGATCACG','GGAATAAACG','CTGATCATAG','TCGAGAATCG', 'AACAGAATCG', 'TGGAGAATCG']\n",
        "tokenized_batch = tokenize_batch(batch)"
      ],
      "metadata": {
        "colab": {
          "base_uri": "https://localhost:8080/"
        },
        "id": "8D9NHVfnDVBX",
        "outputId": "4a3369e8-3aa6-4ca4-db5f-aa9fb4a100e5"
      },
      "execution_count": 30,
      "outputs": [
        {
          "output_type": "stream",
          "name": "stdout",
          "text": [
            "Appending tensor of size torch.Size([10, 4])\n",
            "Appending tensor of size torch.Size([10, 4])\n",
            "Appending tensor of size torch.Size([10, 4])\n",
            "Appending tensor of size torch.Size([10, 4])\n",
            "Appending tensor of size torch.Size([10, 4])\n",
            "Appending tensor of size torch.Size([10, 4])\n",
            "Stacking tensors along a new dimension\n",
            "Resulting tensor size torch.Size([6, 10, 4])\n"
          ]
        }
      ]
    },
    {
      "cell_type": "code",
      "source": [
        "# Swapping the Length and Channel dimensions\n",
        "swapped_batch = tokenized_batch.permute(0,2,1)\n",
        "swapped_batch.size()"
      ],
      "metadata": {
        "colab": {
          "base_uri": "https://localhost:8080/"
        },
        "id": "6-Muzo3gFgde",
        "outputId": "534632de-5c06-4466-d6a2-e71b143131e6"
      },
      "execution_count": 34,
      "outputs": [
        {
          "output_type": "execute_result",
          "data": {
            "text/plain": [
              "torch.Size([6, 4, 10])"
            ]
          },
          "metadata": {},
          "execution_count": 34
        }
      ]
    },
    {
      "cell_type": "markdown",
      "source": [
        "## Enhancers Project "
      ],
      "metadata": {
        "id": "ZrXBPlLXCove"
      }
    },
    {
      "cell_type": "markdown",
      "source": [
        "Your task is to \n",
        "\n",
        "1.   **Create model for DNA sequence classification based on if it contains an enhancer (label 1) or not (label 0)**\n",
        "2.   **Show that your model is generalizing on new unseen data**\n",
        "\n",
        "Tips\n",
        "*   Use the pytorch documentation and ChatGPT for help\n",
        "*   Use validation set for hyperparameter tuning (use torch.utils.data.random_split to split the dataset)\n",
        "*   Do NOT use test set for any adjustments, only use it for the final evaluation\n",
        "*   You can use nn.Conv1d layer to perform convolution over 1D data. Use the one-hot-encoding dimension as the channel dimension. E.g. 4 letters of DNA = 4 channels.\n",
        "*   Explore the data, use proper metrics \n",
        "*   You can use One-hot tokenization, or any other tokenization (e.g. k-mers)\n",
        "*   Feel free to use any other improvements you find on the internet\n",
        "*   Feel free to use any other libraries - e.g. pytorch lightning\n",
        "*   Use GPU for training\n",
        "\n",
        "\n",
        "\n",
        "\n"
      ],
      "metadata": {
        "id": "aQXhhdEEGOc0"
      }
    },
    {
      "cell_type": "markdown",
      "source": [
        "## Data preparation and exploration"
      ],
      "metadata": {
        "id": "LzmRnRALIgpq"
      }
    },
    {
      "cell_type": "code",
      "execution_count": 41,
      "metadata": {
        "id": "mmKgWPNvac3W"
      },
      "outputs": [],
      "source": [
        "from genomic_benchmarks.dataset_getters.pytorch_datasets import HumanEnhancersCohn\n",
        "\n",
        "train_dset =  HumanEnhancersCohn('train') "
      ]
    },
    {
      "cell_type": "markdown",
      "metadata": {
        "id": "srzADCTJac3f"
      },
      "source": [
        "## Testing"
      ]
    },
    {
      "cell_type": "code",
      "source": [
        "test_dset = HumanEnhancersCohn('test')"
      ],
      "metadata": {
        "id": "5FLO2Gy6tam8"
      },
      "execution_count": 40,
      "outputs": []
    }
  ],
  "metadata": {
    "colab": {
      "provenance": [],
      "include_colab_link": true
    },
    "environment": {
      "name": "pytorch-gpu.1-9.m75",
      "type": "gcloud",
      "uri": "gcr.io/deeplearning-platform-release/pytorch-gpu.1-9:m75"
    },
    "interpreter": {
      "hash": "af167c304fdc99884e31a029277e630a5b00036f91292350fffdeed1d15b16ff"
    },
    "kernelspec": {
      "display_name": "Python 3.8.9 64-bit ('genomic_benchmarks': pyenv)",
      "name": "python3"
    },
    "language_info": {
      "codemirror_mode": {
        "name": "ipython",
        "version": 3
      },
      "file_extension": ".py",
      "mimetype": "text/x-python",
      "name": "python",
      "nbconvert_exporter": "python",
      "pygments_lexer": "ipython3",
      "version": "3.8.9"
    },
    "gpuClass": "standard"
  },
  "nbformat": 4,
  "nbformat_minor": 0
}