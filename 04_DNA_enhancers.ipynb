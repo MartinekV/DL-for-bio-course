{
  "cells": [
    {
      "cell_type": "markdown",
      "metadata": {
        "id": "view-in-github",
        "colab_type": "text"
      },
      "source": [
        "<a href=\"https://colab.research.google.com/github/MartinekV/DL-for-bio-course/blob/master/04_DNA_enhancers.ipynb\" target=\"_parent\"><img src=\"https://colab.research.google.com/assets/colab-badge.svg\" alt=\"Open In Colab\"/></a>"
      ]
    },
    {
      "cell_type": "markdown",
      "source": [
        "## Setup"
      ],
      "metadata": {
        "id": "XUhsOuC-CjC4"
      }
    },
    {
      "cell_type": "code",
      "execution_count": null,
      "metadata": {
        "id": "uuhcuLhWapla"
      },
      "outputs": [],
      "source": [
        "!pip install -q genomic-benchmarks\n",
        "!pip install torchmetrics -q"
      ]
    },
    {
      "cell_type": "markdown",
      "source": [
        "## Text preprocessing"
      ],
      "metadata": {
        "id": "MxReT2qZCkyJ"
      }
    },
    {
      "cell_type": "code",
      "source": [
        "import torch\n",
        "example_seq = 'ACCCTGCCAACACGGGACTTNTAC'\n",
        "vocab = {'A':0,'C':1,'T':2,'G':3,'N':4}"
      ],
      "metadata": {
        "id": "JVhdqcmWq67s"
      },
      "execution_count": 2,
      "outputs": []
    },
    {
      "cell_type": "code",
      "source": [
        "numericalized = [vocab[c] for c in example_seq]\n",
        "numericalized"
      ],
      "metadata": {
        "id": "LHgah9gZC2uX"
      },
      "execution_count": null,
      "outputs": []
    },
    {
      "cell_type": "code",
      "source": [
        "numericalized_tensor = torch.tensor(numericalized)\n",
        "ohe_seq = torch.nn.functional.one_hot(numericalized_tensor, num_classes=5)\n",
        "ohe_seq"
      ],
      "metadata": {
        "id": "WL9PgorSC_hc"
      },
      "execution_count": null,
      "outputs": []
    },
    {
      "cell_type": "markdown",
      "source": [
        "## Promoters Project"
      ],
      "metadata": {
        "id": "ZrXBPlLXCove"
      }
    },
    {
      "cell_type": "markdown",
      "source": [
        "Your task is to\n",
        "\n",
        "1.   **Create model for DNA sequence classification based on if it contains an promoter (label 1) or not (label 0)**\n",
        "2.   **Show that your model is generalizing on new unseen data**\n",
        "\n",
        "Tips\n",
        "*   Use the pytorch documentation\n",
        "*   You can use nn.Conv1d layer to perform convolution over 1D data.\n",
        "*   Feel free to use any other improvements you can think of find on the internet (e.g. more metrics, different architecture...)\n",
        "*   Use GPU for training\n",
        "\n",
        "\n",
        "\n",
        "\n"
      ],
      "metadata": {
        "id": "aQXhhdEEGOc0"
      }
    },
    {
      "cell_type": "code",
      "execution_count": 15,
      "metadata": {
        "id": "mmKgWPNvac3W"
      },
      "outputs": [],
      "source": [
        "from genomic_benchmarks.dataset_getters.pytorch_datasets import HumanNontataPromoters\n",
        "import pandas as pd\n",
        "\n",
        "train_df = pd.DataFrame(data=[{'x':x,'y':y} for x,y in HumanNontataPromoters('train')])\n",
        "test_df = pd.DataFrame(data=[{'x':x,'y':y} for x,y in HumanNontataPromoters('test')])"
      ]
    },
    {
      "cell_type": "code",
      "source": [
        "from torch.utils.data import Dataset, DataLoader\n",
        "\n",
        "class PromotersDataset(Dataset):\n",
        "    def __init__(self, #TODO):\n",
        "      #TODO\n",
        "      pass\n",
        "    def __len__(self):\n",
        "      #TODO\n",
        "      pass\n",
        "    def __getitem__(self, idx):\n",
        "      #TODO\n",
        "      pass"
      ],
      "metadata": {
        "id": "zX25wLuQ40En"
      },
      "execution_count": 6,
      "outputs": []
    },
    {
      "cell_type": "code",
      "source": [
        "# Model\n",
        "# TODO"
      ],
      "metadata": {
        "id": "IdiwAnqG9WIh"
      },
      "execution_count": null,
      "outputs": []
    },
    {
      "cell_type": "code",
      "source": [
        "import numpy as np\n",
        "\n",
        "def train(model, dataset, gpu=True, #TODO):\n",
        "  if(gpu):\n",
        "    model.cuda()\n",
        "\n",
        "  #TODO\n"
      ],
      "metadata": {
        "id": "xxEOXpZE6Qgz"
      },
      "execution_count": 9,
      "outputs": []
    },
    {
      "cell_type": "code",
      "source": [
        "train(model, train_dset, #TODO)"
      ],
      "metadata": {
        "id": "AakmSejg6T9d"
      },
      "execution_count": null,
      "outputs": []
    },
    {
      "cell_type": "markdown",
      "metadata": {
        "id": "srzADCTJac3f"
      },
      "source": [
        "## Testing"
      ]
    },
    {
      "cell_type": "code",
      "source": [
        "from tqdm import tqdm\n",
        "from torchmetrics import Accuracy\n",
        "\n",
        "def evaluate(model, dataset, gpu=True):\n",
        "  accuracy_function = Accuracy(task='binary')\n",
        "\n",
        "  if(gpu):\n",
        "    model.cuda()\n",
        "    accuracy_function.cuda()\n",
        "\n",
        "  loader = DataLoader(dataset, batch_size=32, shuffle=False)\n",
        "  model.eval() #Turn off training-only layers\n",
        "  all_predictions = []\n",
        "  all_labels = []\n",
        "  with torch.no_grad(): #Dont track gradients\n",
        "    for batch_x,batch_y in tqdm(loader):\n",
        "      if(gpu):\n",
        "        batch_x, batch_y = batch_x.cuda(), batch_y.cuda()\n",
        "\n",
        "      output = model(batch_x)\n",
        "      all_predictions.append(output)\n",
        "      all_labels.append(batch_y)\n",
        "\n",
        "  print('Accuracy:', accuracy_function(torch.cat(all_predictions), torch.cat(all_labels)).item())"
      ],
      "metadata": {
        "id": "nR7RH_s769h5"
      },
      "execution_count": 12,
      "outputs": []
    },
    {
      "cell_type": "code",
      "source": [
        "evaluate(model, train_dset)"
      ],
      "metadata": {
        "id": "djY5tCNk7DXu"
      },
      "execution_count": null,
      "outputs": []
    },
    {
      "cell_type": "code",
      "source": [
        "evaluate(model, test_dset)"
      ],
      "metadata": {
        "id": "FQ-CWbo47HGr"
      },
      "execution_count": null,
      "outputs": []
    }
  ],
  "metadata": {
    "colab": {
      "provenance": [],
      "gpuType": "T4",
      "include_colab_link": true
    },
    "environment": {
      "name": "pytorch-gpu.1-9.m75",
      "type": "gcloud",
      "uri": "gcr.io/deeplearning-platform-release/pytorch-gpu.1-9:m75"
    },
    "interpreter": {
      "hash": "af167c304fdc99884e31a029277e630a5b00036f91292350fffdeed1d15b16ff"
    },
    "kernelspec": {
      "display_name": "Python 3",
      "name": "python3"
    },
    "language_info": {
      "codemirror_mode": {
        "name": "ipython",
        "version": 3
      },
      "file_extension": ".py",
      "mimetype": "text/x-python",
      "name": "python",
      "nbconvert_exporter": "python",
      "pygments_lexer": "ipython3",
      "version": "3.8.9"
    },
    "accelerator": "GPU"
  },
  "nbformat": 4,
  "nbformat_minor": 0
}