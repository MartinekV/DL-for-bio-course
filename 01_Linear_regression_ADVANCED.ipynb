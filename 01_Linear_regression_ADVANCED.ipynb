{
  "nbformat": 4,
  "nbformat_minor": 0,
  "metadata": {
    "colab": {
      "provenance": [],
      "gpuType": "T4",
      "authorship_tag": "ABX9TyPbT5AbtlkEzTS8yYCB2N82",
      "include_colab_link": true
    },
    "kernelspec": {
      "name": "python3",
      "display_name": "Python 3"
    },
    "language_info": {
      "name": "python"
    },
    "gpuClass": "standard"
  },
  "cells": [
    {
      "cell_type": "markdown",
      "metadata": {
        "id": "view-in-github",
        "colab_type": "text"
      },
      "source": [
        "<a href=\"https://colab.research.google.com/github/MartinekV/DL-for-bio-course/blob/master/01_Linear_regression_ADVANCED.ipynb\" target=\"_parent\"><img src=\"https://colab.research.google.com/assets/colab-badge.svg\" alt=\"Open In Colab\"/></a>"
      ]
    },
    {
      "cell_type": "markdown",
      "source": [
        "# Pytorch basics"
      ],
      "metadata": {
        "id": "5e6Zuo9rFWNV"
      }
    },
    {
      "cell_type": "markdown",
      "source": [
        "## Model"
      ],
      "metadata": {
        "id": "OhAQ0ewZhYar"
      }
    },
    {
      "cell_type": "code",
      "source": [
        "from matplotlib import pyplot as plt\n",
        "\n",
        "height = [167.4, 182.1, 175.0, 155.9, 160.4, 180.4, 173.2, 165.0, 158.6, 176.5]\n",
        "bodyweight = [62.0, 80.8, 75.5, 55.3, 58.9, 77.5, 72.0, 60.1, 56.2, 73.4]\n",
        "plt.scatter(height,bodyweight)"
      ],
      "metadata": {
        "id": "X9FgR-zM2K2-"
      },
      "execution_count": null,
      "outputs": []
    },
    {
      "cell_type": "code",
      "source": [
        "import torch.nn as nn\n",
        "import torch\n",
        "\n",
        "model = nn.Linear(in_features=1, out_features=1, bias=True)\n",
        "\n",
        "print(model.weight)\n",
        "print(model.bias)"
      ],
      "metadata": {
        "id": "tXuJGjUVGyDG"
      },
      "execution_count": null,
      "outputs": []
    },
    {
      "cell_type": "code",
      "source": [
        "# Turning Shape 10 into Shape 10x1\n",
        "height_tensor = torch.tensor(height).reshape(-1,1)\n",
        "\n",
        "# Running through the layer, broadcasting\n",
        "preds = model.forward(height_tensor)\n",
        "print(preds)"
      ],
      "metadata": {
        "id": "d-FqzetmHb7q"
      },
      "execution_count": null,
      "outputs": []
    },
    {
      "cell_type": "code",
      "source": [
        "plt.scatter(height, bodyweight, label='Original')\n",
        "plt.scatter(height, preds.tolist(), label='Predictions')\n",
        "plt.plot(height, preds.tolist())\n",
        "plt.legend()"
      ],
      "metadata": {
        "id": "brIVvOakFGfV"
      },
      "execution_count": null,
      "outputs": []
    },
    {
      "cell_type": "code",
      "source": [
        "x = torch.tensor(height).reshape(-1,1) #Shape 10x1\n",
        "y = torch.tensor(bodyweight).reshape(-1,1) #Shape 10x1"
      ],
      "metadata": {
        "id": "IzJ_RezwhrjJ"
      },
      "execution_count": 14,
      "outputs": []
    },
    {
      "cell_type": "markdown",
      "source": [
        "## Learning"
      ],
      "metadata": {
        "id": "tzfGH-aChemX"
      }
    },
    {
      "cell_type": "code",
      "source": [
        "loss_fn = nn.MSELoss()\n",
        "\n",
        "print(loss_fn(preds, y)) #takes model output and target\n",
        "print(loss_fn(y,y))"
      ],
      "metadata": {
        "id": "xtXCitSXFtbB"
      },
      "execution_count": null,
      "outputs": []
    },
    {
      "cell_type": "code",
      "source": [
        "loss = loss_fn(preds,y)\n",
        "loss.backward() # Computing gradients and storing it next to parameters\n",
        "\n",
        "print(model.weight)\n",
        "print(model.weight.grad)"
      ],
      "metadata": {
        "id": "3dtP8IBuH1mm"
      },
      "execution_count": null,
      "outputs": []
    },
    {
      "cell_type": "code",
      "source": [
        "opt = torch.optim.SGD(model.parameters(), lr=1e-5) # lr is Learning rate\n",
        "\n",
        "opt.step() # Using the gradient of parameters to change them\n",
        "opt.zero_grad()\n",
        "\n",
        "print(model.weight)\n",
        "print(model.weight.grad)"
      ],
      "metadata": {
        "id": "S73NnQRcITfn"
      },
      "execution_count": null,
      "outputs": []
    },
    {
      "cell_type": "code",
      "source": [
        "preds = model.forward(x) # Using the model after updating parameters\n",
        "loss = loss_fn(preds, y)\n",
        "\n",
        "print(loss)"
      ],
      "metadata": {
        "id": "zgppvXWcIkYu"
      },
      "execution_count": null,
      "outputs": []
    },
    {
      "cell_type": "code",
      "source": [
        "plt.scatter(x.tolist(), y.tolist(), label='Original')\n",
        "plt.scatter(x.tolist(), preds.tolist(), label='Predictions')\n",
        "plt.plot(x.tolist(), preds.tolist())\n",
        "plt.legend()"
      ],
      "metadata": {
        "id": "_bKMjLmZKnXo"
      },
      "execution_count": null,
      "outputs": []
    },
    {
      "cell_type": "markdown",
      "source": [
        "# Full solution"
      ],
      "metadata": {
        "id": "gA5SFa95FZuZ"
      }
    },
    {
      "cell_type": "code",
      "execution_count": null,
      "metadata": {
        "id": "eHLufDqpAswf"
      },
      "outputs": [],
      "source": [
        "import torch.nn as nn\n",
        "import torch\n",
        "\n",
        "model = nn.Linear(in_features=1, out_features=1, bias=True) # Model\n",
        "opt = torch.optim.SGD(model.parameters(), lr=1e-4) # Optimizer\n",
        "loss_fn = nn.MSELoss() # Loss function\n",
        "\n",
        "# Raw Data\n",
        "x = torch.tensor([167.4, 182.1, 175.0, 155.9, 160.4, 180.4, 173.2, 165.0, 158.6, 176.5]).reshape(-1,1) #Shape 10x1\n",
        "y = torch.tensor([62.0, 80.8, 75.5, 55.3, 58.9, 77.5, 72.0, 60.1, 56.2, 73.4]).reshape(-1,1) #Shape 10x1\n",
        "\n",
        "# Normalizing data\n",
        "x = (x - torch.mean(x))/torch.std(x)\n",
        "y = (y - torch.mean(y))/torch.std(y)\n",
        "\n",
        "# Training\n",
        "num_epochs = 10\n",
        "# Repeat for given number of epochs\n",
        "for epoch in range(num_epochs):\n",
        "\n",
        "    # 1. Generate predictions\n",
        "    pred = model(x)\n",
        "\n",
        "    # 2. Calculate loss\n",
        "    loss = loss_fn(pred, y)\n",
        "\n",
        "    # 3. Compute gradients\n",
        "    loss.backward()\n",
        "\n",
        "    # 4. Update parameters using gradients\n",
        "    opt.step()\n",
        "\n",
        "    # 5. Reset the gradients to zero\n",
        "    opt.zero_grad()\n",
        "\n",
        "    # Optional: Uncomment to log loss during training\n",
        "    log_interval = num_epochs//10\n",
        "    if(epoch%log_interval == 0):\n",
        "      print(f'Epoch {epoch} loss:',loss.item())\n",
        "\n",
        "print('Training done')"
      ]
    },
    {
      "cell_type": "code",
      "source": [
        "from matplotlib import pyplot as plt\n",
        "import numpy as np\n",
        "\n",
        "preds = model(x)\n",
        "plt.scatter(x.tolist(),y.tolist(), label='Original')\n",
        "plt.scatter(x.tolist(),preds.tolist() , label='Predictions')\n",
        "plt.plot(x.tolist(),preds.tolist())\n",
        "plt.legend()\n",
        "plt.show()\n",
        "\n",
        "print('Weight', model.weight.item())\n",
        "print('Bias', model.bias.item())\n",
        "print('Loss', loss_fn(model(x), y).item())"
      ],
      "metadata": {
        "id": "xOWrVKjpKYzH"
      },
      "execution_count": null,
      "outputs": []
    },
    {
      "cell_type": "code",
      "source": [
        "# Exercise\n",
        "# - Explore which hyperparameters work the best (Number of epochs, Learning rate)\n",
        "# - Could we change something else than the model to improve?"
      ],
      "metadata": {
        "id": "o_pBs6h9I7Lu"
      },
      "execution_count": null,
      "outputs": []
    },
    {
      "cell_type": "code",
      "source": [
        "new_X = torch.tensor([130.5]) # Predicting a new data point\n",
        "model(new_X)"
      ],
      "metadata": {
        "id": "fycMQChIHok3"
      },
      "execution_count": null,
      "outputs": []
    }
  ]
}