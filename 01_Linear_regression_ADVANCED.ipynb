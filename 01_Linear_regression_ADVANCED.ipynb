{
  "nbformat": 4,
  "nbformat_minor": 0,
  "metadata": {
    "colab": {
      "provenance": [],
      "gpuType": "T4",
      "authorship_tag": "ABX9TyOQ2pTvCARfQ9ZdeuOn8gDa",
      "include_colab_link": true
    },
    "kernelspec": {
      "name": "python3",
      "display_name": "Python 3"
    },
    "language_info": {
      "name": "python"
    },
    "gpuClass": "standard"
  },
  "cells": [
    {
      "cell_type": "markdown",
      "metadata": {
        "id": "view-in-github",
        "colab_type": "text"
      },
      "source": [
        "<a href=\"https://colab.research.google.com/github/MartinekV/DL-for-bio-course/blob/master/01_Linear_regression_ADVANCED.ipynb\" target=\"_parent\"><img src=\"https://colab.research.google.com/assets/colab-badge.svg\" alt=\"Open In Colab\"/></a>"
      ]
    },
    {
      "cell_type": "markdown",
      "source": [
        "# Pytorch basics"
      ],
      "metadata": {
        "id": "5e6Zuo9rFWNV"
      }
    },
    {
      "cell_type": "markdown",
      "source": [
        "## Model"
      ],
      "metadata": {
        "id": "OhAQ0ewZhYar"
      }
    },
    {
      "cell_type": "code",
      "source": [
        "from matplotlib import pyplot as plt\n",
        "\n",
        "height = [167.4, 182.1, 175.0, 155.9, 160.4, 180.4, 173.2, 165.0, 158.6, 176.5]\n",
        "bodyweight = [62.0, 80.8, 75.5, 55.3, 58.9, 77.5, 72.0, 60.1, 56.2, 73.4]\n",
        "plt.scatter(height,bodyweight)"
      ],
      "metadata": {
        "colab": {
          "base_uri": "https://localhost:8080/",
          "height": 447
        },
        "id": "X9FgR-zM2K2-",
        "outputId": "bd2cad56-0af8-4b6c-f674-7b05879413b7"
      },
      "execution_count": null,
      "outputs": [
        {
          "output_type": "execute_result",
          "data": {
            "text/plain": [
              "<matplotlib.collections.PathCollection at 0x7aa20f506710>"
            ]
          },
          "metadata": {},
          "execution_count": 13
        },
        {
          "output_type": "display_data",
          "data": {
            "text/plain": [
              "<Figure size 640x480 with 1 Axes>"
            ],
            "image/png": "[encoded data removed]"
          },
          "metadata": {}
        }
      ]
    },
    {
      "cell_type": "code",
      "source": [
        "import torch.nn as nn\n",
        "import torch\n",
        "\n",
        "model = nn.Linear(in_features=1, out_features=1, bias=True)\n",
        "\n",
        "print(model.weight)\n",
        "print(model.bias)"
      ],
      "metadata": {
        "id": "tXuJGjUVGyDG",
        "colab": {
          "base_uri": "https://localhost:8080/"
        },
        "outputId": "38370fee-6b25-484a-f5d8-e1b01f878168"
      },
      "execution_count": null,
      "outputs": [
        {
          "output_type": "stream",
          "name": "stdout",
          "text": [
            "Parameter containing:\n",
            "tensor([[-0.4368]], requires_grad=True)\n",
            "Parameter containing:\n",
            "tensor([-0.2501], requires_grad=True)\n"
          ]
        }
      ]
    },
    {
      "cell_type": "code",
      "source": [
        "# Turning Shape 10 into Shape 10x1\n",
        "height_tensor = torch.tensor(height).reshape(-1,1)\n",
        "\n",
        "# Running through the layer, broadcasting\n",
        "preds = model.forward(height_tensor)\n",
        "print(preds)"
      ],
      "metadata": {
        "id": "d-FqzetmHb7q",
        "colab": {
          "base_uri": "https://localhost:8080/"
        },
        "outputId": "43a3b1ae-8250-4c5f-bd35-de343385c874"
      },
      "execution_count": null,
      "outputs": [
        {
          "output_type": "stream",
          "name": "stdout",
          "text": [
            "tensor([[-73.3733],\n",
            "        [-79.7945],\n",
            "        [-76.6931],\n",
            "        [-68.3499],\n",
            "        [-70.3156],\n",
            "        [-79.0519],\n",
            "        [-75.9069],\n",
            "        [-72.3250],\n",
            "        [-69.5293],\n",
            "        [-77.3484]], grad_fn=<AddmmBackward0>)\n"
          ]
        }
      ]
    },
    {
      "cell_type": "code",
      "source": [
        "plt.scatter(height, bodyweight, label='Original')\n",
        "plt.scatter(height, preds.tolist(), label='Predictions')\n",
        "plt.plot(height, preds.tolist())\n",
        "plt.legend()"
      ],
      "metadata": {
        "colab": {
          "base_uri": "https://localhost:8080/",
          "height": 447
        },
        "id": "brIVvOakFGfV",
        "outputId": "caddf02f-f845-41b8-fb04-2d405d150bb6"
      },
      "execution_count": null,
      "outputs": [
        {
          "output_type": "execute_result",
          "data": {
            "text/plain": [
              "<matplotlib.legend.Legend at 0x7aa20f64d930>"
            ]
          },
          "metadata": {},
          "execution_count": 6
        },
        {
          "output_type": "display_data",
          "data": {
            "text/plain": [
              "<Figure size 640x480 with 1 Axes>"
            ],
            "image/png": "[encoded data removed]"
          },
          "metadata": {}
        }
      ]
    },
    {
      "cell_type": "code",
      "source": [
        "x = torch.tensor(height).reshape(-1,1) #Shape 10x1\n",
        "y = torch.tensor(bodyweight).reshape(-1,1) #Shape 10x1"
      ],
      "metadata": {
        "id": "IzJ_RezwhrjJ"
      },
      "execution_count": null,
      "outputs": []
    },
    {
      "cell_type": "markdown",
      "source": [
        "## Learning"
      ],
      "metadata": {
        "id": "tzfGH-aChemX"
      }
    },
    {
      "cell_type": "code",
      "source": [
        "loss_fn = nn.MSELoss()\n",
        "\n",
        "print(loss_fn(preds, y)) #takes model output and target\n",
        "print(loss_fn(y,y))"
      ],
      "metadata": {
        "colab": {
          "base_uri": "https://localhost:8080/"
        },
        "id": "xtXCitSXFtbB",
        "outputId": "82df070f-fdc2-4b32-dc02-0f2b61ca0b87"
      },
      "execution_count": null,
      "outputs": [
        {
          "output_type": "stream",
          "name": "stdout",
          "text": [
            "tensor(3655.5989, grad_fn=<MseLossBackward0>)\n",
            "tensor(0.)\n"
          ]
        }
      ]
    },
    {
      "cell_type": "code",
      "source": [
        "loss = loss_fn(preds,y)\n",
        "loss.backward() # Computing gradients and storing it next to parameters\n",
        "\n",
        "print(model.weight)\n",
        "print(model.weight.grad)"
      ],
      "metadata": {
        "colab": {
          "base_uri": "https://localhost:8080/"
        },
        "id": "3dtP8IBuH1mm",
        "outputId": "1b0b00cb-b3fc-4989-f24e-50acea475aa3"
      },
      "execution_count": null,
      "outputs": [
        {
          "output_type": "stream",
          "name": "stdout",
          "text": [
            "Parameter containing:\n",
            "tensor([[0.0448]], requires_grad=True)\n",
            "tensor([[-20427.0938]])\n"
          ]
        }
      ]
    },
    {
      "cell_type": "code",
      "source": [
        "opt = torch.optim.SGD(model.parameters(), lr=1e-5) # lr is Learning rate\n",
        "\n",
        "opt.step() # Using the gradient of parameters to change them\n",
        "opt.zero_grad()\n",
        "\n",
        "print(model.weight)\n",
        "print(model.weight.grad)"
      ],
      "metadata": {
        "colab": {
          "base_uri": "https://localhost:8080/"
        },
        "id": "S73NnQRcITfn",
        "outputId": "739760dd-064a-4719-f531-331ec05b33c4"
      },
      "execution_count": null,
      "outputs": [
        {
          "output_type": "stream",
          "name": "stdout",
          "text": [
            "Parameter containing:\n",
            "tensor([[0.0448]], requires_grad=True)\n",
            "None\n"
          ]
        }
      ]
    },
    {
      "cell_type": "code",
      "source": [
        "preds = model.forward(x) # Using the model after updating parameters\n",
        "loss = loss_fn(preds, y)\n",
        "\n",
        "print(loss)"
      ],
      "metadata": {
        "colab": {
          "base_uri": "https://localhost:8080/"
        },
        "id": "zgppvXWcIkYu",
        "outputId": "a31c417d-90cb-473c-cd43-1feecdce048a"
      },
      "execution_count": null,
      "outputs": [
        {
          "output_type": "stream",
          "name": "stdout",
          "text": [
            "tensor(3655.5989, grad_fn=<MseLossBackward0>)\n"
          ]
        }
      ]
    },
    {
      "cell_type": "code",
      "source": [
        "plt.scatter(x.tolist(), y.tolist(), label='Original')\n",
        "plt.scatter(x.tolist(), preds.tolist(), label='Predictions')\n",
        "plt.plot(x.tolist(), preds.tolist())\n",
        "plt.legend()"
      ],
      "metadata": {
        "colab": {
          "base_uri": "https://localhost:8080/",
          "height": 447
        },
        "id": "_bKMjLmZKnXo",
        "outputId": "82b8646f-541b-4564-8ca8-b3f8f4183bb5"
      },
      "execution_count": null,
      "outputs": [
        {
          "output_type": "execute_result",
          "data": {
            "text/plain": [
              "<matplotlib.legend.Legend at 0x7ebca7d2c730>"
            ]
          },
          "metadata": {},
          "execution_count": 68
        },
        {
          "output_type": "display_data",
          "data": {
            "text/plain": [
              "<Figure size 640x480 with 1 Axes>"
            ],
            "image/png": "[encoded data removed]"
          },
          "metadata": {}
        }
      ]
    },
    {
      "cell_type": "markdown",
      "source": [
        "# Full solution"
      ],
      "metadata": {
        "id": "gA5SFa95FZuZ"
      }
    },
    {
      "cell_type": "code",
      "execution_count": null,
      "metadata": {
        "id": "eHLufDqpAswf",
        "outputId": "58a51748-4670-4117-a779-b4fba86dcd47",
        "colab": {
          "base_uri": "https://localhost:8080/"
        }
      },
      "outputs": [
        {
          "output_type": "stream",
          "name": "stdout",
          "text": [
            "Input shape torch.Size([10, 1])\n",
            "Label shape torch.Size([10, 1])\n",
            "Epoch 0 loss: 5168.8466796875\n",
            "Epoch 10000 loss: 32.9721565246582\n",
            "Epoch 20000 loss: 32.93955993652344\n",
            "Epoch 30000 loss: 32.90712356567383\n",
            "Epoch 40000 loss: 32.874916076660156\n",
            "Epoch 50000 loss: 32.84270477294922\n",
            "Epoch 60000 loss: 32.81035614013672\n",
            "Epoch 70000 loss: 32.778018951416016\n",
            "Epoch 80000 loss: 32.74580001831055\n",
            "Epoch 90000 loss: 32.713680267333984\n",
            "Training done\n"
          ]
        }
      ],
      "source": [
        "import torch.nn as nn\n",
        "import torch\n",
        "\n",
        "model = nn.Linear(in_features=1, out_features=1, bias=True) # Model\n",
        "opt = torch.optim.SGD(model.parameters(), lr=1e-5) # Optimizer\n",
        "loss_fn = nn.MSELoss() # Loss function\n",
        "\n",
        "#Data\n",
        "x = torch.tensor([167.4, 182.1, 175.0, 155.9, 160.4, 180.4, 173.2, 165.0, 158.6, 176.5]).reshape(-1,1)\n",
        "y = torch.tensor([62.0, 80.8, 75.5, 55.3, 58.9, 77.5, 72.0, 60.1, 56.2, 73.4]).reshape(-1,1)\n",
        "\n",
        "print('Input shape', x.shape)\n",
        "print('Label shape', y.shape)\n",
        "\n",
        "# Training\n",
        "num_epochs = 100000\n",
        "# Repeat for given number of epochs\n",
        "for epoch in range(num_epochs):\n",
        "\n",
        "    # 1. Generate predictions\n",
        "    pred = model(x)\n",
        "\n",
        "    # 2. Calculate loss\n",
        "    loss = loss_fn(pred, y)\n",
        "\n",
        "    # 3. Compute gradients\n",
        "    loss.backward()\n",
        "\n",
        "    # 4. Update parameters using gradients\n",
        "    opt.step()\n",
        "\n",
        "    # 5. Reset the gradients to zero\n",
        "    opt.zero_grad()\n",
        "\n",
        "    # Optional: Uncomment to log loss during training\n",
        "    log_interval = 10000\n",
        "    if(epoch%log_interval == 0):\n",
        "      print(f'Epoch {epoch} loss:',loss.item())\n",
        "\n",
        "print('Training done')"
      ]
    },
    {
      "cell_type": "code",
      "source": [
        "from matplotlib import pyplot as plt\n",
        "import numpy as np\n",
        "\n",
        "preds = model(x)\n",
        "plt.scatter(x.tolist(),y.tolist(), label='Original')\n",
        "plt.scatter(x.tolist(),preds.tolist() , label='Predictions')\n",
        "plt.plot(x.tolist(),preds.tolist())\n",
        "plt.legend()\n",
        "plt.show()\n",
        "\n",
        "print('Weight', model.weight.item())\n",
        "print('Bias', model.bias.item())\n",
        "print('Loss', loss_fn(model(x), y).item())"
      ],
      "metadata": {
        "colab": {
          "base_uri": "https://localhost:8080/",
          "height": 481
        },
        "id": "xOWrVKjpKYzH",
        "outputId": "b4cd22ba-9f78-48b3-f81e-596b1b47f6c4"
      },
      "execution_count": null,
      "outputs": [
        {
          "output_type": "display_data",
          "data": {
            "text/plain": [
              "<Figure size 640x480 with 1 Axes>"
            ],
            "image/png": "[encoded data removed]"
          },
          "metadata": {}
        },
        {
          "output_type": "stream",
          "name": "stdout",
          "text": [
            "Weight 0.9663324952125549\n",
            "Bias -0.12999162077903748\n",
            "Loss 0.005643355660140514\n"
          ]
        }
      ]
    },
    {
      "cell_type": "code",
      "source": [
        "# Exercise\n",
        "# - Explore which hyperparameters work the best (Number of epochs, Learning rate)\n",
        "# - Could we change something else than the model to improve?"
      ],
      "metadata": {
        "id": "o_pBs6h9I7Lu"
      },
      "execution_count": null,
      "outputs": []
    },
    {
      "cell_type": "code",
      "source": [
        "new_X = torch.tensor([130.5]) # Predicting a new data point\n",
        "model(new_X)"
      ],
      "metadata": {
        "colab": {
          "base_uri": "https://localhost:8080/"
        },
        "id": "fycMQChIHok3",
        "outputId": "2b0c3b38-d464-4665-ca65-45993b8093f9"
      },
      "execution_count": null,
      "outputs": [
        {
          "output_type": "execute_result",
          "data": {
            "text/plain": [
              "tensor([125.9764], grad_fn=<AddBackward0>)"
            ]
          },
          "metadata": {},
          "execution_count": 33
        }
      ]
    }
  ]
}