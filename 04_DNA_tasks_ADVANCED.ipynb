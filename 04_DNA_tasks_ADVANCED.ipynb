{
  "cells": [
    {
      "cell_type": "markdown",
      "metadata": {
        "id": "view-in-github",
        "colab_type": "text"
      },
      "source": [
        "<a href=\"https://colab.research.google.com/github/MartinekV/DL-for-bio-course/blob/master/04_DNA_tasks_ADVANCED.ipynb\" target=\"_parent\"><img src=\"https://colab.research.google.com/assets/colab-badge.svg\" alt=\"Open In Colab\"/></a>"
      ]
    },
    {
      "cell_type": "markdown",
      "source": [
        "Optional: Turn on GPU runtime"
      ],
      "metadata": {
        "id": "3cTfWUkhzQ0k"
      }
    },
    {
      "cell_type": "markdown",
      "source": [
        "## Setup"
      ],
      "metadata": {
        "id": "XUhsOuC-CjC4"
      }
    },
    {
      "cell_type": "code",
      "execution_count": 1,
      "metadata": {
        "id": "uuhcuLhWapla"
      },
      "outputs": [],
      "source": [
        "!pip install -q genomic-benchmarks\n",
        "!pip install torchmetrics -q\n",
        "!pip install -q pytorch-lightning"
      ]
    },
    {
      "cell_type": "markdown",
      "source": [
        "## Text preprocessing"
      ],
      "metadata": {
        "id": "MxReT2qZCkyJ"
      }
    },
    {
      "cell_type": "code",
      "source": [
        "import torch\n",
        "example_seq = 'ACCCTGCCAACACGGGACTTTAC'\n",
        "vocab = {'A':0,'C':1,'T':2,'G':3}"
      ],
      "metadata": {
        "id": "JVhdqcmWq67s"
      },
      "execution_count": 2,
      "outputs": []
    },
    {
      "cell_type": "code",
      "source": [
        "numericalized = [vocab[c] for c in example_seq]\n",
        "numericalized"
      ],
      "metadata": {
        "id": "LHgah9gZC2uX"
      },
      "execution_count": null,
      "outputs": []
    },
    {
      "cell_type": "code",
      "source": [
        "numericalized_tensor = torch.tensor(numericalized)\n",
        "ohe_seq = torch.nn.functional.one_hot(numericalized_tensor, num_classes=4)\n",
        "ohe_seq"
      ],
      "metadata": {
        "id": "WL9PgorSC_hc"
      },
      "execution_count": null,
      "outputs": []
    },
    {
      "cell_type": "markdown",
      "source": [
        "## Data preparation and exploration"
      ],
      "metadata": {
        "id": "LzmRnRALIgpq"
      }
    },
    {
      "cell_type": "code",
      "execution_count": null,
      "metadata": {
        "id": "mmKgWPNvac3W"
      },
      "outputs": [],
      "source": [
        "from genomic_benchmarks.dataset_getters.pytorch_datasets import DemoCodingVsIntergenomicSeqs, HumanNontataPromoters\n",
        "\n",
        "train_dset =  DemoCodingVsIntergenomicSeqs('train') \n",
        "# train_dset =  HumanNontataPromoters('train') \n"
      ]
    },
    {
      "cell_type": "code",
      "source": [
        "train_dset[0]"
      ],
      "metadata": {
        "id": "evpKDF-ZwHVx"
      },
      "execution_count": null,
      "outputs": []
    },
    {
      "cell_type": "code",
      "source": [
        "len(train_dset)"
      ],
      "metadata": {
        "id": "RYGPW8Zh9ebV"
      },
      "execution_count": null,
      "outputs": []
    },
    {
      "cell_type": "code",
      "source": [
        "from collections import Counter\n",
        "\n",
        "lens = [len(x) for x,y in train_dset]\n",
        "labels = [y for x,y in train_dset]\n",
        "\n",
        "print(Counter(lens))\n",
        "print(Counter(labels))"
      ],
      "metadata": {
        "id": "nplUWqRg9l1_"
      },
      "execution_count": null,
      "outputs": []
    },
    {
      "cell_type": "markdown",
      "source": [
        "## Pytorch dataset"
      ],
      "metadata": {
        "id": "BLcnjFfk1Yl7"
      }
    },
    {
      "cell_type": "code",
      "source": [
        "from torch.utils.data import Dataset, DataLoader\n",
        "import torch\n",
        "\n",
        "class MyDataset(Dataset):\n",
        "    def __init__(self, raw_dataset):\n",
        "      self.raw_dataset = raw_dataset\n",
        "      self.vocab = {'N':0,'A':1,'C':2,'T':3,'G':4}\n",
        "      \n",
        "    def __len__(self):\n",
        "      return len(self.raw_dataset)\n",
        "\n",
        "    def __getitem__(self, idx):\n",
        "      sequence, label = self.raw_dataset[idx]\n",
        "\n",
        "      numericalized = [self.vocab[c] for c in sequence]\n",
        "      numericalized_tensor = torch.tensor(numericalized)\n",
        "      ohe_seq = torch.nn.functional.one_hot(numericalized_tensor, num_classes=len(self.vocab.keys()))\n",
        "      x = ohe_seq.permute(1,0) #turning lengthx5 into 5xlength for CNN\n",
        "\n",
        "      y = torch.tensor(label)\n",
        "\n",
        "      return x.float(), y\n",
        "\n",
        "dset = MyDataset(train_dset)\n",
        "train_loader = DataLoader(dset, batch_size=32, shuffle=True) #without shuffle train acc = 100% showcase"
      ],
      "metadata": {
        "id": "fG476dHVwlIK"
      },
      "execution_count": 9,
      "outputs": []
    },
    {
      "cell_type": "code",
      "source": [
        "x_batch, y_batch = next(iter(train_loader))"
      ],
      "metadata": {
        "id": "ZcP3vPtszfMR"
      },
      "execution_count": 10,
      "outputs": []
    },
    {
      "cell_type": "code",
      "source": [
        "x_batch.size()"
      ],
      "metadata": {
        "id": "YadvJa_GdYkA"
      },
      "execution_count": null,
      "outputs": []
    },
    {
      "cell_type": "code",
      "source": [
        "y_batch"
      ],
      "metadata": {
        "id": "hKS0WNp5dbVT"
      },
      "execution_count": null,
      "outputs": []
    },
    {
      "cell_type": "markdown",
      "source": [
        "## Model and training logic"
      ],
      "metadata": {
        "id": "47IjYVCe1dqD"
      }
    },
    {
      "cell_type": "code",
      "source": [
        "import pytorch_lightning as pl\n",
        "import torch.nn as nn\n",
        "import torch.nn.functional as F\n",
        "from torchmetrics import Accuracy\n",
        "\n",
        "class CNN_PL(pl.LightningModule):\n",
        "    def __init__(self, num_classes):\n",
        "        super().__init__()\n",
        "        self.net = nn.Sequential(\n",
        "            nn.Conv1d(in_channels=5, out_channels=16, kernel_size=3),\n",
        "            nn.ReLU(),\n",
        "            nn.MaxPool1d(kernel_size=3),\n",
        "            nn.Flatten(),\n",
        "            nn.LazyLinear(num_classes),\n",
        "            nn.Softmax(dim=-1),\n",
        "        )\n",
        "        self.accuracy = Accuracy(task='multiclass', num_classes=num_classes)\n",
        "\n",
        "    def forward(self, x):\n",
        "        return self.net(x)\n",
        "\n",
        "    def training_step(self, batch, batch_idx):\n",
        "        x, y = batch\n",
        "        pred = self(x)\n",
        "        loss = F.cross_entropy(pred, y)\n",
        "        self.log('train_loss', loss, prog_bar=True)\n",
        "\n",
        "        accuracy = self.accuracy(pred, y)\n",
        "        self.log('train_accuracy', accuracy, prog_bar=True)\n",
        "\n",
        "        return loss\n",
        "\n",
        "    def test_step(self, batch, batch_idx):\n",
        "        x,y = batch\n",
        "        pred = self(x)\n",
        "        metrics = {'accuracy':self.accuracy(pred, y)}\n",
        "        self.log_dict(metrics)\n",
        "\n",
        "    def configure_optimizers(self):\n",
        "        return torch.optim.Adam(self.parameters(), lr=0.0001)\n"
      ],
      "metadata": {
        "id": "gKSQFs3i1owb"
      },
      "execution_count": 13,
      "outputs": []
    },
    {
      "cell_type": "markdown",
      "source": [
        "## Training and evaluation"
      ],
      "metadata": {
        "id": "9lXwqslI1nxS"
      }
    },
    {
      "cell_type": "code",
      "source": [
        "model = CNN_PL(num_classes=2)\n",
        "\n",
        "# Optional GPU acceleration accelerator='gpu' in Trainer\n",
        "trainer = pl.Trainer(max_epochs=1, accelerator='gpu')\n",
        "trainer.fit(model, train_loader)"
      ],
      "metadata": {
        "id": "uFLVdMMq115Z"
      },
      "execution_count": null,
      "outputs": []
    },
    {
      "cell_type": "code",
      "source": [
        "trainer.test(dataloaders=train_loader)"
      ],
      "metadata": {
        "id": "6hcJfsXj6PUq"
      },
      "execution_count": null,
      "outputs": []
    },
    {
      "cell_type": "markdown",
      "metadata": {
        "id": "srzADCTJac3f"
      },
      "source": [
        "## Testing"
      ]
    },
    {
      "cell_type": "code",
      "source": [
        "test_dataset_original = DemoCodingVsIntergenomicSeqs('test')\n",
        "# test_dataset_original =  HumanNontataPromoters('test') \n",
        "test_dset = MyDataset(test_dataset_original)\n",
        "test_loader = DataLoader(test_dset, batch_size=32)\n",
        "\n",
        "trainer.test(dataloaders=test_loader)"
      ],
      "metadata": {
        "id": "5FLO2Gy6tam8"
      },
      "execution_count": null,
      "outputs": []
    },
    {
      "cell_type": "markdown",
      "source": [
        "## Interpretability"
      ],
      "metadata": {
        "id": "Fq-xst6lewH7"
      }
    },
    {
      "cell_type": "code",
      "source": [
        "!pip install -q captum"
      ],
      "metadata": {
        "id": "oZ_1DLYSA3Xa"
      },
      "execution_count": 17,
      "outputs": []
    },
    {
      "cell_type": "code",
      "source": [
        "import random\n",
        "vocab = {'N':0,'A':1,'C':2,'T':3,'G':4}\n",
        "\n",
        "baseline_len = 200\n",
        "# baseline = torch.tensor([random.choices(list(vocab.values()), k=baseline_len)])\n",
        "baseline = torch.tensor([random.choices(([1,2,3,4]), k=baseline_len)])\n",
        "# baseline = torch.tensor([[0]*baseline_len])\n",
        "ohe_baseline = torch.nn.functional.one_hot(baseline, num_classes=len(vocab.keys())).permute(0,2,1).float()\n",
        "\n",
        "datapoint_index = 20000\n",
        "x,y = test_dset[datapoint_index]\n",
        "x = x.unsqueeze(0)\n",
        "x.requires_grad_()\n",
        "sequence = test_dataset_original[datapoint_index][0]\n",
        "sequence"
      ],
      "metadata": {
        "id": "R2FXjb6kKFVj"
      },
      "execution_count": null,
      "outputs": []
    },
    {
      "cell_type": "code",
      "source": [
        "from captum.attr import IntegratedGradients\n",
        "import random\n",
        "\n",
        "# Initialize Integrated Gradients\n",
        "ig = IntegratedGradients(model)\n",
        "\n",
        "# Compute attributions\n",
        "attributions = ig.attribute(x, ohe_baseline, target=1, n_steps=500)\n",
        "attributions = attributions.squeeze() \n",
        "# Print attributions\n",
        "print('Attributions:', attributions.size())\n"
      ],
      "metadata": {
        "id": "T464wIlVHCSY"
      },
      "execution_count": null,
      "outputs": []
    },
    {
      "cell_type": "code",
      "source": [
        "from IPython.display import display, HTML\n",
        "import numpy as np\n",
        "# Convert attributions to numpy if it's a tensor\n",
        "if torch.is_tensor(attributions):\n",
        "    attributions = attributions.detach().numpy()\n",
        "\n",
        "# Normalize attributions for better color coding\n",
        "attributions = (attributions - attributions.min()) / (attributions.max() - attributions.min())\n",
        "\n",
        "# Prepare the text\n",
        "html_text = \"\"\n",
        "\n",
        "# Loop over the sequence\n",
        "for i,nucleotide in enumerate(sequence):\n",
        "    idx = vocab[nucleotide]\n",
        "\n",
        "    color_intensity = attributions[idx, i]\n",
        "    # color_intensity = np.max(np.abs(attributions[idx,:]), axis=-1)\n",
        "\n",
        "    # Define green and red intensities based on the color intensity\n",
        "    green_intensity = int(color_intensity * 255)\n",
        "    red_intensity = 255 - green_intensity\n",
        "\n",
        "    # Generate the colored nucleotide\n",
        "    colored_nucleotide = f'<span style=\"color: rgb({red_intensity}, {green_intensity}, 0);\">{nucleotide}</span>'\n",
        "\n",
        "    # Add the colored nucleotide to the html text\n",
        "    html_text += colored_nucleotide\n",
        "\n",
        "# Display the html text\n",
        "display(HTML(html_text))\n",
        "print('label',y.item(), 'pred', model(x).tolist())\n"
      ],
      "metadata": {
        "id": "CLlCO1X4FZ8Y"
      },
      "execution_count": null,
      "outputs": []
    },
    {
      "cell_type": "markdown",
      "source": [
        "## Helpers"
      ],
      "metadata": {
        "id": "wSsAXcgF4HtZ"
      }
    },
    {
      "cell_type": "code",
      "source": [
        "#Optional helper for variable length datasets\n",
        "def pad_truncate(sequence, max_len):\n",
        "    if len(sequence) > max_len:\n",
        "      sequence = sequence[:max_len]\n",
        "    # If sequence is shorter than sequence_length, pad it with 'N'\n",
        "    elif len(sequence) < max_len:\n",
        "      sequence += 'N' * (max_len - len(sequence))\n",
        "    return sequence"
      ],
      "metadata": {
        "id": "c_6hDzMedEgp"
      },
      "execution_count": 21,
      "outputs": []
    }
  ],
  "metadata": {
    "colab": {
      "provenance": [],
      "collapsed_sections": [
        "wSsAXcgF4HtZ"
      ],
      "gpuType": "T4",
      "include_colab_link": true
    },
    "environment": {
      "name": "pytorch-gpu.1-9.m75",
      "type": "gcloud",
      "uri": "gcr.io/deeplearning-platform-release/pytorch-gpu.1-9:m75"
    },
    "interpreter": {
      "hash": "af167c304fdc99884e31a029277e630a5b00036f91292350fffdeed1d15b16ff"
    },
    "kernelspec": {
      "display_name": "Python 3.8.9 64-bit ('genomic_benchmarks': pyenv)",
      "name": "python3"
    },
    "language_info": {
      "codemirror_mode": {
        "name": "ipython",
        "version": 3
      },
      "file_extension": ".py",
      "mimetype": "text/x-python",
      "name": "python",
      "nbconvert_exporter": "python",
      "pygments_lexer": "ipython3",
      "version": "3.8.9"
    },
    "gpuClass": "standard"
  },
  "nbformat": 4,
  "nbformat_minor": 0
}