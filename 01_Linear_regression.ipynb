{
  "nbformat": 4,
  "nbformat_minor": 0,
  "metadata": {
    "colab": {
      "provenance": [],
      "gpuType": "T4",
      "authorship_tag": "ABX9TyOtb7pz0DlyW4HxopKMI0v4",
      "include_colab_link": true
    },
    "kernelspec": {
      "name": "python3",
      "display_name": "Python 3"
    },
    "language_info": {
      "name": "python"
    },
    "gpuClass": "standard"
  },
  "cells": [
    {
      "cell_type": "markdown",
      "metadata": {
        "id": "view-in-github",
        "colab_type": "text"
      },
      "source": [
        "<a href=\"https://colab.research.google.com/github/MartinekV/DL-for-bio-course/blob/master/01_Linear_regression.ipynb\" target=\"_parent\"><img src=\"https://colab.research.google.com/assets/colab-badge.svg\" alt=\"Open In Colab\"/></a>"
      ]
    },
    {
      "cell_type": "code",
      "execution_count": 11,
      "metadata": {
        "id": "eHLufDqpAswf",
        "outputId": "7d8cb6b6-4193-415f-bbe1-3d41b13d542f",
        "colab": {
          "base_uri": "https://localhost:8080/"
        }
      },
      "outputs": [
        {
          "output_type": "stream",
          "name": "stdout",
          "text": [
            "Input shape torch.Size([6, 1])\n",
            "Label shape torch.Size([6, 1])\n"
          ]
        }
      ],
      "source": [
        "import torch.nn.functional as F\n",
        "import torch.nn as nn\n",
        "import torch\n",
        "\n",
        "\n",
        "model = nn.Linear(in_features=1, out_features=1, bias=True)\n",
        "opt = torch.optim.SGD(model.parameters(), lr=1e-5)\n",
        "loss_fn = nn.MSELoss()\n",
        "\n",
        "#Tensor = fancy numpy array for pytorch to track gradient\n",
        "x = torch.tensor([1.0,2.1,4.0,3.3,5.2,6.1]).reshape(-1,1)\n",
        "y = torch.tensor([4.0,6.0,5.2,6.1,7.4,8.4]).reshape(-1,1)\n",
        "\n",
        "print('Input shape', x.size())\n",
        "print('Label shape', y.size())\n",
        "\n",
        "\n",
        "num_epochs = 300\n",
        "# Repeat for given number of epochs\n",
        "for epoch in range(num_epochs):\n",
        "\n",
        "    # 1. Generate predictions\n",
        "    pred = model(x)\n",
        "    \n",
        "    # 2. Calculate loss\n",
        "    loss = loss_fn(pred, y)\n",
        "\n",
        "    # 3. Compute gradients\n",
        "    loss.backward()\n",
        "    \n",
        "    # 4. Update parameters using gradients\n",
        "    opt.step()\n",
        "    \n",
        "    # 5. Reset the gradients to zero\n",
        "    opt.zero_grad()\n",
        "\n",
        "    # Optional: Uncomment to log loss during training\n",
        "    # log_interval = 100\n",
        "    # if(epoch%log_interval == 0):\n",
        "    #   print(f'Epoch {epoch} loss:',loss.item())\n",
        "        "
      ]
    },
    {
      "cell_type": "code",
      "source": [
        "from matplotlib import pyplot as plt\n",
        "import numpy as np\n",
        "\n",
        "plt.figure(figsize=(10,5))\n",
        "plt.xlabel('X value')\n",
        "plt.ylabel('y value')\n",
        "\n",
        "plt.scatter(x.numpy(), y.numpy())\n",
        "plt.plot(x.numpy(), model(x).tolist(), color='green')\n",
        "\n",
        "plt.show()\n",
        "\n",
        "print('Weight', model.weight.item())\n",
        "print('Bias', model.bias.item())"
      ],
      "metadata": {
        "colab": {
          "base_uri": "https://localhost:8080/",
          "height": 500
        },
        "id": "xOWrVKjpKYzH",
        "outputId": "6a05de48-964d-4f85-f57c-51a75ec416ce"
      },
      "execution_count": 12,
      "outputs": [
        {
          "output_type": "display_data",
          "data": {
            "text/plain": [
              "<Figure size 1000x500 with 1 Axes>"
            ],
            "image/png": "[encoded data removed]"
          },
          "metadata": {}
        },
        {
          "output_type": "stream",
          "name": "stdout",
          "text": [
            "Weight 1.1747387647628784\n",
            "Bias 1.1385902166366577\n"
          ]
        }
      ]
    },
    {
      "cell_type": "code",
      "source": [
        "# Exercise \n",
        "# - Explore which hyperparameters work the best\n",
        "# - Number of epochs, Learning rate"
      ],
      "metadata": {
        "id": "o_pBs6h9I7Lu"
      },
      "execution_count": null,
      "outputs": []
    },
    {
      "cell_type": "code",
      "source": [
        "new_X = torch.tensor([8.1])\n",
        "model(new_X)"
      ],
      "metadata": {
        "colab": {
          "base_uri": "https://localhost:8080/"
        },
        "id": "fycMQChIHok3",
        "outputId": "3166e052-79df-405b-d34f-f016c1bac3e9"
      },
      "execution_count": 13,
      "outputs": [
        {
          "output_type": "execute_result",
          "data": {
            "text/plain": [
              "tensor([10.6540], grad_fn=<AddBackward0>)"
            ]
          },
          "metadata": {},
          "execution_count": 13
        }
      ]
    }
  ]
}