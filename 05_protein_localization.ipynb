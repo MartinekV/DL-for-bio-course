{
  "cells": [
    {
      "cell_type": "markdown",
      "metadata": {
        "id": "view-in-github",
        "colab_type": "text"
      },
      "source": [
        "<a href=\"https://colab.research.google.com/github/MartinekV/DL-for-bio-course/blob/master/05_protein_localization.ipynb\" target=\"_parent\"><img src=\"https://colab.research.google.com/assets/colab-badge.svg\" alt=\"Open In Colab\"/></a>"
      ]
    },
    {
      "cell_type": "markdown",
      "source": [
        "## Library installation"
      ],
      "metadata": {
        "id": "7hyf-X4UiI55"
      },
      "id": "7hyf-X4UiI55"
    },
    {
      "cell_type": "code",
      "execution_count": null,
      "id": "4c5bf8d4",
      "metadata": {
        "id": "4c5bf8d4"
      },
      "outputs": [],
      "source": [
        "# Switch to GPU runtine\n",
        "! pip install transformers evaluate datasets requests pandas -q\n",
        "# Starter notebook source https://huggingface.co/blog/deep-learning-with-proteins"
      ]
    },
    {
      "cell_type": "markdown",
      "source": [
        "# Data creation and preparation"
      ],
      "metadata": {
        "id": "j9J4Lxksh27E"
      },
      "id": "j9J4Lxksh27E"
    },
    {
      "cell_type": "markdown",
      "source": [
        "Classifying proteins by their cellular localization - given their sequence, can we predict if they're going to be found in the cytosol (the fluid inside the cell) or embedded in the cell membrane?"
      ],
      "metadata": {
        "id": "eDrP_ADcj65b"
      },
      "id": "eDrP_ADcj65b"
    },
    {
      "cell_type": "code",
      "execution_count": 3,
      "id": "c718ffbc",
      "metadata": {
        "id": "c718ffbc"
      },
      "outputs": [],
      "source": [
        "import requests\n",
        "# https://www.uniprot.org/\n",
        "query_url =\"https://rest.uniprot.org/uniprotkb/stream?compressed=true&fields=accession%2Csequence%2Ccc_subcellular_location&format=tsv&query=%28%28organism_id%3A9606%29%20AND%20%28reviewed%3Atrue%29%20AND%20%28length%3A%5B80%20TO%20500%5D%29%29\""
      ]
    },
    {
      "cell_type": "code",
      "execution_count": null,
      "id": "f2c05017",
      "metadata": {
        "id": "f2c05017"
      },
      "outputs": [],
      "source": [
        "from io import BytesIO\n",
        "import pandas\n",
        "\n",
        "uniprot_request = requests.get(query_url)\n",
        "bio = BytesIO(uniprot_request.content)\n",
        "df = pandas.read_csv(bio, compression='gzip', sep='\\t')\n",
        "df"
      ]
    },
    {
      "cell_type": "code",
      "execution_count": 5,
      "id": "31d87663",
      "metadata": {
        "id": "31d87663"
      },
      "outputs": [],
      "source": [
        "df = df.dropna()  # Drop proteins with missing columns\n",
        "cytosolic = df['Subcellular location [CC]'].str.contains(\"Cytosol\") | df['Subcellular location [CC]'].str.contains(\"Cytoplasm\")\n",
        "membrane = df['Subcellular location [CC]'].str.contains(\"Membrane\") | df['Subcellular location [CC]'].str.contains(\"Cell membrane\")\n",
        "# Ignoring proteins that have both\n",
        "cytosolic_df = df[cytosolic & ~membrane]\n",
        "membrane_df = df[membrane & ~cytosolic]"
      ]
    },
    {
      "cell_type": "code",
      "execution_count": 6,
      "id": "023ec31b",
      "metadata": {
        "id": "023ec31b"
      },
      "outputs": [],
      "source": [
        "cytosolic_sequences = cytosolic_df[\"Sequence\"].tolist()\n",
        "cytosolic_labels = [0 for protein in cytosolic_sequences]"
      ]
    },
    {
      "cell_type": "code",
      "execution_count": 7,
      "id": "d0e7318b",
      "metadata": {
        "id": "d0e7318b"
      },
      "outputs": [],
      "source": [
        "membrane_sequences = membrane_df[\"Sequence\"].tolist()\n",
        "membrane_labels = [1 for protein in membrane_sequences]"
      ]
    },
    {
      "cell_type": "code",
      "execution_count": 8,
      "id": "7dec7a4a",
      "metadata": {
        "id": "7dec7a4a"
      },
      "outputs": [],
      "source": [
        "sequences = cytosolic_sequences + membrane_sequences\n",
        "labels = cytosolic_labels + membrane_labels"
      ]
    },
    {
      "cell_type": "code",
      "source": [
        "sequences[:5]"
      ],
      "metadata": {
        "id": "_f06-nX3Fwwu"
      },
      "id": "_f06-nX3Fwwu",
      "execution_count": null,
      "outputs": []
    },
    {
      "cell_type": "markdown",
      "id": "e0aac39c",
      "metadata": {
        "id": "e0aac39c"
      },
      "source": [
        "## Splitting the data"
      ]
    },
    {
      "cell_type": "code",
      "execution_count": 25,
      "id": "366147ad",
      "metadata": {
        "id": "366147ad"
      },
      "outputs": [],
      "source": [
        "from sklearn.model_selection import train_test_split\n",
        "\n",
        "train_sequences, test_sequences, train_labels, test_labels = train_test_split(sequences, labels, test_size=0.25, shuffle=True)"
      ]
    },
    {
      "cell_type": "markdown",
      "id": "7d29b4ed",
      "metadata": {
        "id": "7d29b4ed"
      },
      "source": [
        "## Pytorch dataset and tokenization"
      ]
    },
    {
      "cell_type": "code",
      "source": [
        "from torch.utils.data import Dataset, TensorDataset\n",
        "from transformers import AutoTokenizer\n",
        "\n",
        "class MyProteinDataset(Dataset):\n",
        "    def __init__(self, data, targets, tokenizer):\n",
        "        self.data = data\n",
        "        self.targets = targets\n",
        "        self.tokenizer = tokenizer\n",
        "\n",
        "    def __getitem__(self, index):\n",
        "        x = self.data[index]\n",
        "        y = self.targets[index]\n",
        "        tokenized_x = self.tokenizer(x)\n",
        "        return {**tokenized_x, 'labels':y}\n",
        "    \n",
        "    def __len__(self):\n",
        "        return len(self.targets)\n",
        "\n",
        "#Models on huggingface often come with tokenizers\n",
        "model_checkpoint = \"facebook/esm2_t6_8M_UR50D\"\n",
        "tokenizer = AutoTokenizer.from_pretrained(model_checkpoint)\n",
        "train_dataset = MyProteinDataset(train_sequences, train_labels, tokenizer)\n",
        "\n",
        "sample = train_dataset[0]\n",
        "print(sample)"
      ],
      "metadata": {
        "id": "LCKJPFe2pfka"
      },
      "id": "LCKJPFe2pfka",
      "execution_count": null,
      "outputs": []
    },
    {
      "cell_type": "code",
      "source": [
        "for k,v in sample.items():\n",
        "  print(k,v)"
      ],
      "metadata": {
        "id": "9mhuWxyfyBqq"
      },
      "id": "9mhuWxyfyBqq",
      "execution_count": null,
      "outputs": []
    },
    {
      "cell_type": "code",
      "source": [
        "test_dataset = MyProteinDataset(test_sequences, test_labels, tokenizer)"
      ],
      "metadata": {
        "id": "u7oA2OLH5EFl"
      },
      "id": "u7oA2OLH5EFl",
      "execution_count": 38,
      "outputs": []
    },
    {
      "cell_type": "markdown",
      "id": "af074a5c",
      "metadata": {
        "id": "af074a5c"
      },
      "source": [
        "## Model loading"
      ]
    },
    {
      "cell_type": "code",
      "execution_count": null,
      "id": "fc164b49",
      "metadata": {
        "id": "fc164b49"
      },
      "outputs": [],
      "source": [
        "from transformers import AutoModelForSequenceClassification, TrainingArguments, Trainer\n",
        "model_checkpoint = \"facebook/esm2_t6_8M_UR50D\"\n",
        "model = AutoModelForSequenceClassification.from_pretrained(model_checkpoint, num_labels=2)\n",
        "# model.init_weights()"
      ]
    },
    {
      "cell_type": "code",
      "execution_count": 3,
      "id": "32e605a2",
      "metadata": {
        "id": "32e605a2"
      },
      "outputs": [],
      "source": [
        "# Other larger protein language models\n",
        "# https://huggingface.co/facebook/esm2_t36_3B_UR50D\n",
        "# https://huggingface.co/Rostlab/prot_bert\n",
        "# https://huggingface.co/yarongef/DistilProtBert\n",
        "# https://github.com/nstrodt/UDSMProt"
      ]
    },
    {
      "cell_type": "markdown",
      "source": [
        "## Training"
      ],
      "metadata": {
        "id": "ursISI-Ynggc"
      },
      "id": "ursISI-Ynggc"
    },
    {
      "cell_type": "code",
      "execution_count": 30,
      "id": "775cb3e7",
      "metadata": {
        "id": "775cb3e7"
      },
      "outputs": [],
      "source": [
        "args = TrainingArguments(\n",
        "    f\"protein-model-finetuned\", #our own directory name for saving the model \n",
        "    evaluation_strategy = \"epoch\",\n",
        "    logging_strategy = \"epoch\",\n",
        "    learning_rate=2e-5,\n",
        "    per_device_train_batch_size=32,\n",
        "    per_device_eval_batch_size=32,\n",
        "    num_train_epochs=3,\n",
        "    weight_decay=0.01,\n",
        ")"
      ]
    },
    {
      "cell_type": "code",
      "execution_count": 31,
      "id": "471cef9f",
      "metadata": {
        "id": "471cef9f"
      },
      "outputs": [],
      "source": [
        "from evaluate import load\n",
        "import numpy as np\n",
        "\n",
        "#huggingface likes their own metrics\n",
        "metric = load(\"accuracy\")\n",
        "def compute_metrics(eval_pred):\n",
        "    predictions, labels = eval_pred\n",
        "    predictions = np.argmax(predictions, axis=1)\n",
        "    return metric.compute(predictions=predictions, references=labels)"
      ]
    },
    {
      "cell_type": "code",
      "execution_count": 32,
      "id": "e212b751",
      "metadata": {
        "id": "e212b751"
      },
      "outputs": [],
      "source": [
        "#shuffles automatically between epochs\n",
        "trainer = Trainer(\n",
        "    model,\n",
        "    args,\n",
        "    train_dataset=train_dataset,\n",
        "    eval_dataset=test_dataset,\n",
        "    tokenizer=tokenizer,\n",
        "    compute_metrics=compute_metrics,\n",
        ")"
      ]
    },
    {
      "cell_type": "code",
      "execution_count": null,
      "id": "9c3cf6da",
      "metadata": {
        "scrolled": true,
        "id": "9c3cf6da"
      },
      "outputs": [],
      "source": [
        "trainer.train()"
      ]
    }
  ],
  "metadata": {
    "kernelspec": {
      "display_name": "Python 3 (ipykernel)",
      "language": "python",
      "name": "python3"
    },
    "language_info": {
      "codemirror_mode": {
        "name": "ipython",
        "version": 3
      },
      "file_extension": ".py",
      "mimetype": "text/x-python",
      "name": "python",
      "nbconvert_exporter": "python",
      "pygments_lexer": "ipython3",
      "version": "3.10.8"
    },
    "colab": {
      "provenance": [],
      "include_colab_link": true
    },
    "gpuClass": "standard",
    "accelerator": "GPU"
  },
  "nbformat": 4,
  "nbformat_minor": 5
}